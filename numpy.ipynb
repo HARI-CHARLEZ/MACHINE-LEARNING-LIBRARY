{
 "cells": [
  {
   "cell_type": "code",
   "execution_count": 80,
   "id": "8485efe2-4ae5-42b4-9565-0637076c16b5",
   "metadata": {},
   "outputs": [],
   "source": [
    "import numpy as np\n",
    "\n",
    "\n",
    "#creating a one dimensional array \n",
    "array_a = np.array([1,2,3])\n",
    "\n",
    "#two dimensional array\n",
    "array_b = np.array([[1,2,3],[4,5,6]])\n",
    "\n",
    "#three dimensional array\n",
    "array_c = np.array([[1,2,3],[4,5,6],[7,8,9]])"
   ]
  },
  {
   "cell_type": "code",
   "execution_count": 81,
   "id": "48f76b63-51c2-41ca-ac5a-25e2a4874470",
   "metadata": {},
   "outputs": [
    {
     "name": "stdout",
     "output_type": "stream",
     "text": [
      "[1 2 3]\n"
     ]
    },
    {
     "data": {
      "text/plain": [
       "dtype('int32')"
      ]
     },
     "execution_count": 81,
     "metadata": {},
     "output_type": "execute_result"
    }
   ],
   "source": [
    "print(array_a)\n",
    "array_a.dtype"
   ]
  },
  {
   "cell_type": "code",
   "execution_count": 82,
   "id": "f9f38b22-c74e-47d6-8f0f-dbedc1894f8b",
   "metadata": {},
   "outputs": [
    {
     "name": "stdout",
     "output_type": "stream",
     "text": [
      "[[1 2 3]\n",
      " [4 5 6]]\n"
     ]
    },
    {
     "data": {
      "text/plain": [
       "dtype('int32')"
      ]
     },
     "execution_count": 82,
     "metadata": {},
     "output_type": "execute_result"
    }
   ],
   "source": [
    "print(array_b)\n",
    "array_b.dtype"
   ]
  },
  {
   "cell_type": "code",
   "execution_count": 83,
   "id": "5711cbaf-016c-4577-852c-e59d7528435a",
   "metadata": {},
   "outputs": [
    {
     "name": "stdout",
     "output_type": "stream",
     "text": [
      "[[1 2 3]\n",
      " [4 5 6]\n",
      " [7 8 9]]\n"
     ]
    },
    {
     "data": {
      "text/plain": [
       "dtype('int32')"
      ]
     },
     "execution_count": 83,
     "metadata": {},
     "output_type": "execute_result"
    }
   ],
   "source": [
    "print(array_c)\n",
    "array_c.dtype"
   ]
  },
  {
   "cell_type": "code",
   "execution_count": 84,
   "id": "f6e1b28c-f7a6-4abd-a25a-e8daaae1ad1d",
   "metadata": {},
   "outputs": [
    {
     "name": "stdout",
     "output_type": "stream",
     "text": [
      "normal array : [[1 2 3]\n",
      " [4 5 6]]\n",
      "\n",
      "after shaped array : [[1 2]\n",
      " [3 4]\n",
      " [5 6]]\n",
      "\n",
      "indexing the array : 3\n"
     ]
    }
   ],
   "source": [
    "new_arr=np.array([[1,2,3],[4,5,6]])\n",
    "array = new_arr.reshape(3,2)\n",
    "\n",
    "print(f\"normal array : {new_arr}\\n\")\n",
    "print(f\"after shaped array : {array}\\n\")\n",
    "print(f\"indexing the array :\",array[1,0])"
   ]
  },
  {
   "cell_type": "code",
   "execution_count": 85,
   "id": "25f6c691-98fe-443a-b5a2-f4e6f461f5a7",
   "metadata": {},
   "outputs": [],
   "source": [
    "#difference between normal and numpy array\n",
    "nor_arr = [1,2,3,4,5,6,'hello world']\n",
    "\n",
    "np_arr = np.array([1,2,3,'hello world'])"
   ]
  },
  {
   "cell_type": "code",
   "execution_count": 86,
   "id": "34d5e78b-cfd1-47bd-b20e-c66fa8d268d8",
   "metadata": {},
   "outputs": [
    {
     "name": "stdout",
     "output_type": "stream",
     "text": [
      "if we add a string is normal array is only the string to string : [1, 2, 3, 4, 5, 6, 'hello world']\n",
      "\n",
      "but the numpy array is take to every thing to string in the array : ['1' '2' '3' 'hello world']\n"
     ]
    }
   ],
   "source": [
    "print(f\"if we add a string is normal array is only the string to string : {nor_arr}\\n\")\n",
    "print(f\"but the numpy array is take to every thing to string in the array : {np_arr}\")"
   ]
  },
  {
   "cell_type": "code",
   "execution_count": 87,
   "id": "a8bffecd-76ac-457e-8ad7-98e675d6924c",
   "metadata": {},
   "outputs": [
    {
     "name": "stdout",
     "output_type": "stream",
     "text": [
      "zeros array\n",
      "[[0. 0. 0.]\n",
      " [0. 0. 0.]\n",
      " [0. 0. 0.]]\n",
      "\n",
      "ones array\n",
      "[[1. 1. 1.]\n",
      " [1. 1. 1.]\n",
      " [1. 1. 1.]]\n",
      "\n",
      "full array \n",
      "[[5 5 5]\n",
      " [5 5 5]\n",
      " [5 5 5]]\n",
      "\n",
      "random fill with numbers \n",
      "[[0.87720197 0.20558465 0.17694169 0.82703407 0.94350348]\n",
      " [0.51532037 0.14573088 0.11642546 0.32373692 0.8161474 ]\n",
      " [0.02559736 0.8852884  0.81712484 0.78066722 0.15396292]\n",
      " [0.99134939 0.14721041 0.66977647 0.7245711  0.09893381]]\n",
      "\n"
     ]
    }
   ],
   "source": [
    "#zeros,ones,full,random in the numpy\n",
    "\n",
    "Array_a = np.zeros((3,3))\n",
    "print(f\"zeros array\\n{Array_a}\\n\")\n",
    "\n",
    "Array_b = np.ones((3,3))\n",
    "print(f\"ones array\\n{Array_b}\\n\")\n",
    "\n",
    "Array_c = np.full((3,3),5)\n",
    "print(f\"full array \\n{Array_c}\\n\")\n",
    "\n",
    "Array_d=np.random.random((4,5))\n",
    "print(f\"random fill with numbers \\n{Array_d}\\n\")"
   ]
  }
 ],
 "metadata": {
  "kernelspec": {
   "display_name": "Python 3 (ipykernel)",
   "language": "python",
   "name": "python3"
  },
  "language_info": {
   "codemirror_mode": {
    "name": "ipython",
    "version": 3
   },
   "file_extension": ".py",
   "mimetype": "text/x-python",
   "name": "python",
   "nbconvert_exporter": "python",
   "pygments_lexer": "ipython3",
   "version": "3.11.9"
  }
 },
 "nbformat": 4,
 "nbformat_minor": 5
}
